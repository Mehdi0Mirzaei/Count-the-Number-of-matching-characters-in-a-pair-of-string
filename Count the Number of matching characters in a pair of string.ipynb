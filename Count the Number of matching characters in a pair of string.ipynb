{
 "cells": [
  {
   "cell_type": "code",
   "execution_count": 63,
   "id": "944fa20b",
   "metadata": {},
   "outputs": [
    {
     "name": "stdout",
     "output_type": "stream",
     "text": [
      "NO. OF COMMON CHRACTERS ARE :  5\n"
     ]
    }
   ],
   "source": [
    "def commonfun(str1,str2):\n",
    "    return(len((set(str1)).intersection(set(str2))))\n",
    " \n",
    "#string1=input(\"Enter String 1 : \")\n",
    "string1=\"VISHAV\"\n",
    "string2=\"VANSHIKA\"\n",
    "#string2=input(\"Enter String 2 : \")\n",
    " \n",
    "no_of_common_character=commonfun(string1.lower(),string2.lower())\n",
    " \n",
    "print(\"NO. OF COMMON CHRACTERS ARE : \",no_of_common_character)"
   ]
  },
  {
   "cell_type": "code",
   "execution_count": 64,
   "id": "74618d09",
   "metadata": {},
   "outputs": [
    {
     "name": "stdout",
     "output_type": "stream",
     "text": [
      "No. of matching characters are: 5\n"
     ]
    }
   ],
   "source": [
    "def count(str1, str2):\n",
    "    # Initialize an empty dictionary to keep track of the count of each character in str1.\n",
    "    char_count = {}\n",
    "     # Iterate over each character in str1.\n",
    "    for char in str1:\n",
    "        # If the character is already in the dictionary, increment its count.\n",
    "        if char in char_count:\n",
    "            char_count[char] += 1\n",
    "        # Otherwise, add the character to the dictionary with a count of 1.\n",
    "        else:\n",
    "            char_count[char] = 1\n",
    "     # Initialize a counter variable to 0.\n",
    "    counter = 0\n",
    "     # Iterate over each character in str2.\n",
    "    for char in str2:\n",
    "        # If the character is in the char_count dictionary and its count is greater than 0, increment the counter and decrement the count.\n",
    "        if char in char_count and char_count[char] > 0:\n",
    "            counter += 1\n",
    "            char_count[char] -= 1\n",
    "     # Print the number of matching characters.\n",
    "    print(\"No. of matching characters are: \" + str(counter))\n",
    " # Driver code\n",
    "if __name__ == \"__main__\":\n",
    "    # Define two strings to compare.\n",
    "    str1 = 'aabcddekll12@'\n",
    "    str2 = 'bb2211@55k'\n",
    "     # Call the count function with the two strings.\n",
    "    count(str1, str2)"
   ]
  },
  {
   "cell_type": "code",
   "execution_count": null,
   "id": "801127d9",
   "metadata": {},
   "outputs": [],
   "source": []
  }
 ],
 "metadata": {
  "kernelspec": {
   "display_name": "Python 3 (ipykernel)",
   "language": "python",
   "name": "python3"
  },
  "language_info": {
   "codemirror_mode": {
    "name": "ipython",
    "version": 3
   },
   "file_extension": ".py",
   "mimetype": "text/x-python",
   "name": "python",
   "nbconvert_exporter": "python",
   "pygments_lexer": "ipython3",
   "version": "3.9.13"
  }
 },
 "nbformat": 4,
 "nbformat_minor": 5
}
